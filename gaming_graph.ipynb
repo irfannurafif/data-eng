{
 "cells": [
  {
   "cell_type": "code",
   "execution_count": 11,
   "metadata": {
    "collapsed": false
   },
   "outputs": [],
   "source": [
    "import networkx as nx\n",
    "import pandas as pd\n",
    "\n",
    "data = pd.read_csv('C:/Users/timothy/Downloads/Camden_Licensing_Applications_Beta.csv')\n",
    "data = data[data['Application Type']=='Gaming Notification']\n",
    "full_graph = nx.Graph()\n",
    "\n",
    "full_graph.add_nodes_from(data['Application Reference'].unique(),color='black')\n",
    "full_graph.add_nodes_from(data['Premises Name'].unique(),color='blue')\n",
    "full_graph.add_nodes_from(data['Application Legislation'].unique(),color='green')\n",
    "full_graph.add_nodes_from(data['Ward Name'].unique(),color='red')\n",
    "full_graph.add_nodes_from(data['Application Status'].unique(),color='yellow')\n",
    "full_graph.add_nodes_from(data['Application Type'].unique(),color='purple')\n",
    "\"\"\"\n",
    "col index to name\n",
    "Application Reference\tApplication Type\tPremises Name\tPremises Address\tApplication Legislation\tApplication Status\tApplication Objections\tApproved Date\tDate Of Events\tExpiry Date\tHearing Date\tLast Date For Representations\tReceived Date\tRefused Date\tCumulative Impact Policy Area Name\tWard Code\tWard Name\tEasting\tNorthing\tLongitude\tLatitude\tSpatial Accuracy\tLast Uploaded\tLocation\tSocrata ID\tOrganisation URI\n",
    "0\t1\t2\t3\t4\t5\t6\t7\t8\t9\t10\t11\t12\t13\t14\t15\t16\t17\t18\t19\t20\t21\t22\t23\t24\t25\n",
    "\"\"\"\n",
    "\n",
    "\n",
    "#adding edges\n",
    "for row in data.iterrows():\n",
    "    full_graph.add_edge(row[1][2],row[1][0],name='made application',received=row[1][12])\n",
    "    full_graph.add_edge(row[1][0],row[1][16],name='application has ward')\n",
    "    full_graph.add_edge(row[1][16],row[1][2],name='Deals with')\n",
    "    full_graph.add_edge(row[1][0],row[1][5],name='has status',approved=row[1][7],refused=row[1][13])\n",
    "    full_graph.add_edge(row[1][0],row[1][4],name='is of legislation type')\n",
    "    full_graph.add_edge(row[1][0],row[1][1],name='is of type')\n",
    "    \n"
   ]
  },
  {
   "cell_type": "code",
   "execution_count": 12,
   "metadata": {
    "collapsed": true
   },
   "outputs": [],
   "source": [
    "import numpy as np\n",
    "def distance(long1, lat1,long2,lat2):\n",
    "    lat1 = np.radians(lat1)\n",
    "    lat2 = np.radians(lat2)\n",
    "    long1 = np.radians(long1)\n",
    "    long2 = np.radians(long2)\n",
    "    #earth radius\n",
    "    R = 6371\n",
    "    a = (np.sin((lat2-lat1)/2))**2 + np.cos(lat1) * np.cos(lat2) * (np.sin((long2-long1)/2))**2\n",
    "    c = 2 * np.arctan2(np.sqrt(a),np.sqrt(1-a))\n",
    "    d = R * c\n",
    "    return d\n",
    "   "
   ]
  },
  {
   "cell_type": "code",
   "execution_count": 13,
   "metadata": {
    "collapsed": false
   },
   "outputs": [
    {
     "name": "stdout",
     "output_type": "stream",
     "text": [
      "1.094652406417112345\r"
     ]
    }
   ],
   "source": [
    "count = 0\n",
    "for row in data.iterrows():\n",
    "    count +=1\n",
    "    print(count/len(data['Application Reference']),end='\\r', flush=True)\n",
    "    for subrow in data.iterrows():\n",
    "        if row[1][0]==subrow[1][0]:\n",
    "            pass\n",
    "        else:\n",
    "            dis = distance(row[1][19],row[1][20],subrow[1][19],subrow[1][20])\n",
    "            if dis <0.5:\n",
    "                full_graph.add_edge(row[1][2],subrow[1][2],name='Is close to')\n",
    "                "
   ]
  },
  {
   "cell_type": "code",
   "execution_count": 15,
   "metadata": {
    "collapsed": false
   },
   "outputs": [],
   "source": [
    "nx.write_edgelist(full_graph,'gaming_graph.csv',delimiter=',')"
   ]
  },
  {
   "cell_type": "code",
   "execution_count": 39,
   "metadata": {
    "collapsed": false
   },
   "outputs": [],
   "source": [
    "all_nodes = full_graph.nodes(data=True)\n",
    "\n",
    "nodes_df = pd.DataFrame(all_nodes,columns=['Node','Attributes'])\n",
    "nodes_df.to_csv('all_nodes.csv')"
   ]
  }
 ],
 "metadata": {
  "kernelspec": {
   "display_name": "Python 3",
   "language": "python",
   "name": "python3"
  },
  "language_info": {
   "codemirror_mode": {
    "name": "ipython",
    "version": 3
   },
   "file_extension": ".py",
   "mimetype": "text/x-python",
   "name": "python",
   "nbconvert_exporter": "python",
   "pygments_lexer": "ipython3",
   "version": "3.5.2"
  }
 },
 "nbformat": 4,
 "nbformat_minor": 2
}
